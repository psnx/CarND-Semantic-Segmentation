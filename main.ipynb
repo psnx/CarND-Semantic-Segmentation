{
 "cells": [
  {
   "cell_type": "code",
   "execution_count": 1,
   "metadata": {
    "collapsed": false,
    "scrolled": true
   },
   "outputs": [
    {
     "name": "stdout",
     "output_type": "stream",
     "text": [
      "TensorFlow Version: 1.2.1\n",
      "Tests Passed\n"
     ]
    },
    {
     "name": "stderr",
     "output_type": "stream",
     "text": [
      "/home/carnd/anaconda3/envs/carnd-term1/lib/python3.5/site-packages/ipykernel_launcher.py:24: UserWarning: No GPU found. Please use a GPU to train your neural network.\n"
     ]
    }
   ],
   "source": [
    "import os.path\n",
    "import tensorflow as tf\n",
    "import helper\n",
    "import warnings\n",
    "from distutils.version import LooseVersion\n",
    "import project_tests as tests\n",
    "\n",
    "tf.GraphKeys.VARIABLES = tf.GraphKeys.GLOBAL_VARIABLES\n",
    "\n",
    "#Hyperparameters:\n",
    "EPOCHS = 16\n",
    "BATCH_SIZE = 2\n",
    "KEEP_PROB = 0.5\n",
    "LEARNING_RATE = 1e-4\n",
    "\n",
    "\n",
    "\n",
    "# Check TensorFlow Version\n",
    "assert LooseVersion(tf.__version__) >= LooseVersion('1.0'), 'Please use TensorFlow version 1.0 or newer.  You are using {}'.format(tf.__version__)\n",
    "print('TensorFlow Version: {}'.format(tf.__version__))\n",
    "\n",
    "# Check for a GPU\n",
    "if not tf.test.gpu_device_name():\n",
    "    warnings.warn('No GPU found. Please use a GPU to train your neural network.')\n",
    "else:\n",
    "    print('Default GPU Device: {}'.format(tf.test.gpu_device_name()))\n",
    "\n",
    "\n",
    "def load_vgg(sess, vgg_path):\n",
    "    \"\"\"\n",
    "    Load Pretrained VGG Model into TensorFlow.\n",
    "    :param sess: TensorFlow Session\n",
    "    :param vgg_path: Path to vgg folder, containing \"variables/\" and \"saved_model.pb\"\n",
    "    :return: Tuple of Tensors from VGG model (image_input, keep_prob, layer3_out, layer4_out, layer7_out)\n",
    "    \"\"\"\n",
    "    # TODO: Implement function\n",
    "    #   Use tf.saved_model.loader.load to load the model and weights\n",
    "    vgg_tag = 'vgg16'\n",
    "    vgg_input_tensor_name = 'image_input:0'\n",
    "    vgg_keep_prob_tensor_name = 'keep_prob:0'\n",
    "    vgg_layer3_out_tensor_name = 'layer3_out:0'\n",
    "    vgg_layer4_out_tensor_name = 'layer4_out:0'\n",
    "    vgg_layer7_out_tensor_name = 'layer7_out:0'\n",
    "    \n",
    "    tf.saved_model.loader.load(sess, [vgg_tag], vgg_path)\n",
    "    graph = tf.get_default_graph()\n",
    "    image_input = graph.get_tensor_by_name(vgg_input_tensor_name)\n",
    "    keep = graph.get_tensor_by_name(vgg_keep_prob_tensor_name)\n",
    "    l3 = graph.get_tensor_by_name(vgg_layer3_out_tensor_name)\n",
    "    l4 = graph.get_tensor_by_name(vgg_layer4_out_tensor_name)\n",
    "    l7 = graph.get_tensor_by_name(vgg_layer7_out_tensor_name)\n",
    "    \n",
    "    \n",
    "    return image_input, keep, l3, l4, l7\n",
    "tests.test_load_vgg(load_vgg, tf)"
   ]
  },
  {
   "cell_type": "markdown",
   "metadata": {},
   "source": [
    "### Cheat sheet\n",
    "conv2d(\n",
    "    inputs,  \n",
    "    filters,  \n",
    "    kernel_size,  \n",
    "    strides=(1, 1),  \n",
    "    padding='valid',  \n",
    "    data_format='channels_last',  \n",
    "    dilation_rate=(1, 1),  \n",
    "    activation=None,  \n",
    "    use_bias=True,  \n",
    "    kernel_initializer=None,  \n",
    "    bias_initializer=tf.zeros_initializer(),  \n",
    "    kernel_regularizer=None,  \n",
    "    bias_regularizer=None,  \n",
    "    activity_regularizer=None,  \n",
    "    trainable=True,  \n",
    "    name=None,  \n",
    "    reuse=None  \n",
    ")"
   ]
  },
  {
   "cell_type": "code",
   "execution_count": 2,
   "metadata": {
    "collapsed": false,
    "scrolled": false
   },
   "outputs": [
    {
     "name": "stdout",
     "output_type": "stream",
     "text": [
      "Tests Passed\n"
     ]
    }
   ],
   "source": [
    "def layers(vgg_layer3_out, vgg_layer4_out, vgg_layer7_out, num_classes):\n",
    "    \"\"\"\n",
    "    Create the layers for a fully convolutional network.  Build skip-layers using the vgg layers.\n",
    "    :param vgg_layer7_out: TF Tensor for VGG Layer 3 output\n",
    "    :param vgg_layer4_out: TF Tensor for VGG Layer 4 output\n",
    "    :param vgg_layer3_out: TF Tensor for VGG Layer 7 output\n",
    "    :param num_classes: Number of classes to classify\n",
    "    :return: The Tensor for the last layer of output\n",
    "    \"\"\"\n",
    "    # TODO: Implement function   \n",
    "    #freeze the layers\n",
    "    vgg_layer3_out = tf.stop_gradient(vgg_layer3_out)\n",
    "    vgg_layer4_out = tf.stop_gradient(vgg_layer4_out)\n",
    "    vgg_layer7_out = tf.stop_gradient(vgg_layer7_out)\n",
    "    \n",
    "    #1x1 convolution\n",
    "    conv_1x1 = tf.layers.conv2d(vgg_layer7_out, num_classes, 1, 1, padding='same',\n",
    "                                kernel_regularizer=tf.contrib.layers.l2_regularizer(1e-3),\n",
    "                                kernel_initializer=tf.truncated_normal_initializer(stddev=0.01))\n",
    "    \n",
    "    #Upsamplint to 2x2\n",
    "    deconv1 = tf.layers.conv2d_transpose(conv_1x1, num_classes, 4, 2, padding='same',\n",
    "                                         kernel_regularizer = tf.contrib.layers.l2_regularizer(1e-3),\n",
    "                                         kernel_initializer=tf.truncated_normal_initializer(stddev=0.01))\n",
    "    \n",
    "    #get skip layer from vgg_layer4 of size 2x2 \n",
    "    l4_dense = tf.layers.conv2d(vgg_layer4_out, num_classes, 4, 1, padding='same',\n",
    "                                kernel_regularizer=tf.contrib.layers.l2_regularizer(1e-3),\n",
    "                                kernel_initializer=tf.truncated_normal_initializer(stddev=0.01))    \n",
    "    #l4_dense + 1x1 = 2x2\n",
    "    output = tf.add(deconv1, l4_dense)\n",
    "    \n",
    "    #Upsampling to 4x4\n",
    "    output = tf.layers.conv2d_transpose(output, num_classes, 4, 2, padding='same',\n",
    "                                        kernel_regularizer=tf.contrib.layers.l2_regularizer(1e-3),\n",
    "                                        kernel_initializer=tf.truncated_normal_initializer(stddev=0.01))\n",
    "    \n",
    "\n",
    "    #get skip layer from vgg_layer4 of size 4x4 \n",
    "    l3_dense = tf.layers.conv2d(vgg_layer3_out, num_classes, 4, 1, padding='same',\n",
    "                                kernel_regularizer=tf.contrib.layers.l2_regularizer(1e-3),\n",
    "                                kernel_initializer=tf.truncated_normal_initializer(stddev=0.01))\n",
    "    # l3_dense + uutput = 4x4\n",
    "    output = tf.add(output, l3_dense)\n",
    "\n",
    "    #final upsampling to 48x48\n",
    "    output = tf.layers.conv2d_transpose(output, num_classes, 16, 8, padding='same',\n",
    "                                        kernel_regularizer=tf.contrib.layers.l2_regularizer(1e-3),\n",
    "                                        kernel_initializer=tf.truncated_normal_initializer(stddev=0.01))\n",
    "    \n",
    "        \n",
    "    return output\n",
    "tests.test_layers(layers)"
   ]
  },
  {
   "cell_type": "code",
   "execution_count": 3,
   "metadata": {
    "collapsed": false
   },
   "outputs": [
    {
     "name": "stdout",
     "output_type": "stream",
     "text": [
      "Tests Passed\n"
     ]
    }
   ],
   "source": [
    "def optimize(nn_last_layer, correct_label, learning_rate, num_classes):\n",
    "    \"\"\"\n",
    "    Build the TensorFLow loss and optimizer operations.\n",
    "    :param nn_last_layer: TF Tensor of the last layer in the neural network\n",
    "    :param correct_label: TF Placeholder for the correct label image\n",
    "    :param learning_rate: TF Placeholder for the learning rate\n",
    "    :param num_classes: Number of classes to classify\n",
    "    :return: Tuple of (logits, train_op, cross_entropy_loss)\n",
    "    \"\"\"    \n",
    "    \n",
    "    # TODO: Implement function\n",
    "    \n",
    "    labels = tf.reshape(correct_label, (-1, num_classes))    \n",
    "    logits = tf.reshape(nn_last_layer, (-1, num_classes))\n",
    "    \n",
    "    cross_entropy_loss = tf.reduce_mean(tf.nn.softmax_cross_entropy_with_logits(logits=logits,  \n",
    "                                                                                labels=labels))\n",
    "    train_op = tf.train.AdamOptimizer(learning_rate).minimize(cross_entropy_loss)\n",
    "    return logits, train_op, cross_entropy_loss    \n",
    "    \n",
    "tests.test_optimize(optimize)"
   ]
  },
  {
   "cell_type": "code",
   "execution_count": 4,
   "metadata": {
    "collapsed": false,
    "scrolled": true
   },
   "outputs": [
    {
     "name": "stdout",
     "output_type": "stream",
     "text": [
      "INFO:tensorflow:Restoring parameters from b'./data/vgg/variables/variables'\n"
     ]
    }
   ],
   "source": [
    "def train_nn(sess, epochs, batch_size, get_batches_fn, train_op, cross_entropy_loss, input_image,\n",
    "             correct_label, keep_prob, learning_rate):\n",
    "    \"\"\"\n",
    "    Train neural network and print out the loss during training.\n",
    "    :param sess: TF Session\n",
    "    :param epochs: Number of epochs\n",
    "    :param batch_size: Batch size\n",
    "    :param get_batches_fn: Function to get batches of training data.  Call using get_batches_fn(batch_size)\n",
    "    :param train_op: TF Operation to train the neural network\n",
    "    :param cross_entropy_loss: TF Tensor for the amount of loss\n",
    "    :param input_image: TF Placeholder for input images\n",
    "    :param correct_label: TF Placeholder for label images\n",
    "    :param keep_prob: TF Placeholder for dropout keep probability\n",
    "    :param learning_rate: TF Placeholder for learning rate\n",
    "    \"\"\"\n",
    "    # TODO: Implement function\n",
    "    sess.run(tf.global_variables_initializer())\n",
    "    train_losses = []\n",
    "    steps = 0\n",
    "    \n",
    "    for epoch in range(epochs):\n",
    "        for (images, labels) in get_batches_fn(batch_size):\n",
    "            steps += 1\n",
    "            epoch_loss = 0.\n",
    "            epoch_total = 0\n",
    "            print('epoch: ', epoch)\n",
    "            \n",
    "            sess.run([train_op], {\n",
    "                input_image: images,\n",
    "                correct_label: labels,                \n",
    "                keep_prob: KEEP_PROB,\n",
    "                learning_rate: LEARNING_RATE})\n",
    "            \n",
    "            loss = sess.run([cross_entropy_loss], {\n",
    "                input_image: images, \n",
    "                keep_prob: 1.,\n",
    "                correct_label: labels})\n",
    "            \n",
    "            print(\"epoch:\", epoch, \"loss: \", loss, \"step:\", steps )\n",
    "            \n",
    "tests.test_train_nn(train_nn)"
   ]
  },
  {
   "cell_type": "code",
   "execution_count": 5,
   "metadata": {
    "collapsed": true,
    "nbpresent": {
     "id": "11340269-a03d-4112-b101-18cd45f7f75a"
    },
    "scrolled": false
   },
   "outputs": [],
   "source": [
    "\n",
    "\n",
    "def run():\n",
    "    num_classes = 2\n",
    "    image_shape = (160, 576)\n",
    "    data_dir = './data'\n",
    "    runs_dir = './runs'\n",
    "    tests.test_for_kitti_dataset(data_dir)\n",
    "\n",
    "    # Download pretrained vgg model\n",
    "    helper.maybe_download_pretrained_vgg(data_dir)    \n",
    "\n",
    "    # OPTIONAL: Train and Inference on the cityscapes dataset instead of the Kitti dataset.\n",
    "    # You'll need a GPU with at least 10 teraFLOPS to train on.\n",
    "    #  https://www.cityscapes-dataset.com/\n",
    "\n",
    "    with tf.Session() as sess:\n",
    "        # Path to vgg model\n",
    "        vgg_path = os.path.join(data_dir, 'vgg')\n",
    "        # Create function to get batches\n",
    "        get_batches_fn = helper.gen_batch_function(os.path.join(data_dir, 'data_road/training'), image_shape)\n",
    "\n",
    "        # OPTIONAL: Augment Images for better results\n",
    "        #  https://datascience.stackexchange.com/questions/5224/how-to-prepaconv_1x1 = tf.layers.conv2d(vgg_layer7_out, num_classes, 1, padding='same' ,\n",
    "        #re-augment-images-for-neural-network\n",
    "        \n",
    "        correct_label = tf.placeholder(tf.float32, [None, image_shape[0], image_shape[1], num_classes])\n",
    "        learning_rate = tf.placeholder(tf.float32)\n",
    "        keep_prob = tf.placeholder(tf.float32)\n",
    "\n",
    "        # TODO: Build NN using load_vgg, layers, and optimize function\n",
    "        input_image,keep_prob, layer3_out, layer4_out, layer7_out = load_vgg(sess, vgg_path)\n",
    "        nn_last_layer = layers(layer3_out, layer4_out, layer7_out, num_classes)\n",
    "        logits, train_op, cost = optimize(nn_last_layer, correct_label, learning_rate, num_classes)\n",
    "\n",
    "        # TODO: Train NN using the train_nn function\n",
    "        train_nn(sess, EPOCHS, BATCH_SIZE, get_batches_fn, train_op, cost, input_image, correct_label, keep_prob, learning_rate) \n",
    "\n",
    "        # TODO: Save inference data using helper.save_inference_samples\n",
    "        #  helper.save_inference_samples(runs_dir, data_dir, sess, image_shape, logits, keep_prob, input_image)\n",
    "        helper.save_inference_samples(runs_dir, data_dir, sess, image_shape, logits, keep_prob, input_image)\n",
    "        \n",
    "\n",
    "        # OPTIONAL: Apply the trained model to a video\n",
    "        \n",
    "\n",
    "\n",
    "if __name__ == '__main__':\n",
    "    run()"
   ]
  },
  {
   "cell_type": "code",
   "execution_count": null,
   "metadata": {
    "collapsed": true
   },
   "outputs": [],
   "source": []
  }
 ],
 "metadata": {
  "anaconda-cloud": {},
  "kernelspec": {
   "display_name": "Python 3",
   "language": "python",
   "name": "python3"
  },
  "language_info": {
   "codemirror_mode": {
    "name": "ipython",
    "version": 3
   },
   "file_extension": ".py",
   "mimetype": "text/x-python",
   "name": "python",
   "nbconvert_exporter": "python",
   "pygments_lexer": "ipython3",
   "version": "3.6.0"
  },
  "nbpresent": {
   "slides": {
    "0dd25f78-c662-4b12-961a-b3cfc340206b": {
     "id": "0dd25f78-c662-4b12-961a-b3cfc340206b",
     "prev": "4a941736-aa3c-45f9-a2f4-14b0c3cb37f1",
     "regions": {
      "2a599cd2-a4c7-40ce-8065-97335e2d99bf": {
       "attrs": {
        "height": 0.8,
        "width": 0.8,
        "x": 0.1,
        "y": 0.1
       },
       "content": {
        "cell": "0d86df7f-ab57-4a2e-a814-fcc4eeb11a4e",
        "part": "whole"
       },
       "id": "2a599cd2-a4c7-40ce-8065-97335e2d99bf"
      }
     }
    },
    "4a941736-aa3c-45f9-a2f4-14b0c3cb37f1": {
     "id": "4a941736-aa3c-45f9-a2f4-14b0c3cb37f1",
     "prev": "d149fa12-55a4-45b5-8434-c23aedcbd14f",
     "regions": {
      "00165255-f5a7-4a35-955d-accaf44243b9": {
       "attrs": {
        "height": 0.6,
        "width": 0.8,
        "x": 0.1,
        "y": 0.1
       },
       "id": "00165255-f5a7-4a35-955d-accaf44243b9"
      },
      "0a49e7c7-6fd8-492e-bae2-6bc0eaba2338": {
       "attrs": {
        "height": 0.2,
        "width": 0.4,
        "x": 0.1,
        "y": 0.7
       },
       "id": "0a49e7c7-6fd8-492e-bae2-6bc0eaba2338"
      },
      "69966457-c34f-4e72-bc8a-d5430bde2e45": {
       "attrs": {
        "height": 0.2,
        "width": 0.4,
        "x": 0.5,
        "y": 0.7
       },
       "id": "69966457-c34f-4e72-bc8a-d5430bde2e45"
      }
     }
    },
    "d149fa12-55a4-45b5-8434-c23aedcbd14f": {
     "id": "d149fa12-55a4-45b5-8434-c23aedcbd14f",
     "prev": null,
     "regions": {
      "5a0abe68-27f0-4b54-9233-ea851c9a7ddd": {
       "attrs": {
        "height": 0.8,
        "width": 0.8,
        "x": 0.1,
        "y": 0.1
       },
       "content": {
        "cell": "11340269-a03d-4112-b101-18cd45f7f75a",
        "part": "whole"
       },
       "id": "5a0abe68-27f0-4b54-9233-ea851c9a7ddd"
      }
     }
    }
   },
   "themes": {
    "default": "7b64b047-b6c5-4f2c-8707-869a1cffb578",
    "theme": {
     "3278ba4f-6b39-402c-aa66-c8e157d8e46d": {
      "id": "3278ba4f-6b39-402c-aa66-c8e157d8e46d",
      "palette": {
       "19cc588f-0593-49c9-9f4b-e4d7cc113b1c": {
        "id": "19cc588f-0593-49c9-9f4b-e4d7cc113b1c",
        "rgb": [
         252,
         252,
         252
        ]
       },
       "31af15d2-7e15-44c5-ab5e-e04b16a89eff": {
        "id": "31af15d2-7e15-44c5-ab5e-e04b16a89eff",
        "rgb": [
         68,
         68,
         68
        ]
       },
       "50f92c45-a630-455b-aec3-788680ec7410": {
        "id": "50f92c45-a630-455b-aec3-788680ec7410",
        "rgb": [
         155,
         177,
         192
        ]
       },
       "c5cc3653-2ee1-402a-aba2-7caae1da4f6c": {
        "id": "c5cc3653-2ee1-402a-aba2-7caae1da4f6c",
        "rgb": [
         43,
         126,
         184
        ]
       },
       "efa7f048-9acb-414c-8b04-a26811511a21": {
        "id": "efa7f048-9acb-414c-8b04-a26811511a21",
        "rgb": [
         25.118061674008803,
         73.60176211453744,
         107.4819383259912
        ]
       }
      },
      "rules": {
       "blockquote": {
        "color": "50f92c45-a630-455b-aec3-788680ec7410"
       },
       "code": {
        "font-family": "Anonymous Pro"
       },
       "h1": {
        "color": "c5cc3653-2ee1-402a-aba2-7caae1da4f6c",
        "font-family": "Lato",
        "font-size": 8
       },
       "h2": {
        "color": "c5cc3653-2ee1-402a-aba2-7caae1da4f6c",
        "font-family": "Lato",
        "font-size": 6
       },
       "h3": {
        "color": "50f92c45-a630-455b-aec3-788680ec7410",
        "font-family": "Lato",
        "font-size": 5.5
       },
       "h4": {
        "color": "c5cc3653-2ee1-402a-aba2-7caae1da4f6c",
        "font-family": "Lato",
        "font-size": 5
       },
       "h5": {
        "font-family": "Lato"
       },
       "h6": {
        "font-family": "Lato"
       },
       "h7": {
        "font-family": "Lato"
       },
       "pre": {
        "font-family": "Anonymous Pro",
        "font-size": 4
       }
      },
      "text-base": {
       "font-family": "Merriweather",
       "font-size": 4
      }
     },
     "7b64b047-b6c5-4f2c-8707-869a1cffb578": {
      "id": "7b64b047-b6c5-4f2c-8707-869a1cffb578",
      "palette": {
       "19cc588f-0593-49c9-9f4b-e4d7cc113b1c": {
        "id": "19cc588f-0593-49c9-9f4b-e4d7cc113b1c",
        "rgb": [
         252,
         252,
         252
        ]
       },
       "31af15d2-7e15-44c5-ab5e-e04b16a89eff": {
        "id": "31af15d2-7e15-44c5-ab5e-e04b16a89eff",
        "rgb": [
         68,
         68,
         68
        ]
       },
       "50f92c45-a630-455b-aec3-788680ec7410": {
        "id": "50f92c45-a630-455b-aec3-788680ec7410",
        "rgb": [
         155,
         177,
         192
        ]
       },
       "c5cc3653-2ee1-402a-aba2-7caae1da4f6c": {
        "id": "c5cc3653-2ee1-402a-aba2-7caae1da4f6c",
        "rgb": [
         43,
         126,
         184
        ]
       },
       "efa7f048-9acb-414c-8b04-a26811511a21": {
        "id": "efa7f048-9acb-414c-8b04-a26811511a21",
        "rgb": [
         25.118061674008803,
         73.60176211453744,
         107.4819383259912
        ]
       }
      },
      "rules": {
       "blockquote": {
        "color": "50f92c45-a630-455b-aec3-788680ec7410"
       },
       "code": {
        "font-family": "Anonymous Pro"
       },
       "h1": {
        "color": "c5cc3653-2ee1-402a-aba2-7caae1da4f6c",
        "font-family": "Lato",
        "font-size": 8
       },
       "h2": {
        "color": "c5cc3653-2ee1-402a-aba2-7caae1da4f6c",
        "font-family": "Lato",
        "font-size": 6
       },
       "h3": {
        "color": "50f92c45-a630-455b-aec3-788680ec7410",
        "font-family": "Lato",
        "font-size": 5.5
       },
       "h4": {
        "color": "c5cc3653-2ee1-402a-aba2-7caae1da4f6c",
        "font-family": "Lato",
        "font-size": 5
       },
       "h5": {
        "font-family": "Lato"
       },
       "h6": {
        "font-family": "Lato"
       },
       "h7": {
        "font-family": "Lato"
       },
       "pre": {
        "font-family": "Anonymous Pro",
        "font-size": 4
       }
      },
      "text-base": {
       "font-family": "Merriweather",
       "font-size": 4
      }
     }
    }
   }
  }
 },
 "nbformat": 4,
 "nbformat_minor": 1
}
